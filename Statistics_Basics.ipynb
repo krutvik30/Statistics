{
  "nbformat": 4,
  "nbformat_minor": 0,
  "metadata": {
    "colab": {
      "provenance": []
    },
    "kernelspec": {
      "name": "python3",
      "display_name": "Python 3"
    },
    "language_info": {
      "name": "python"
    }
  },
  "cells": [
    {
      "cell_type": "markdown",
      "source": [
        "# **Theory Question**"
      ],
      "metadata": {
        "id": "iDQSi-5_Eof0"
      }
    },
    {
      "cell_type": "markdown",
      "source": [
        "1. What is statistics, and why is it important?\n"
      ],
      "metadata": {
        "id": "zWGEVQWdEtbd"
      }
    },
    {
      "cell_type": "markdown",
      "source": [
        "=> Statistics is the study of data collection, analysis, interpretation, and presentation. It is important for making informed decisions based on data.\n",
        "\n"
      ],
      "metadata": {
        "id": "3I2D36KrE5Wb"
      }
    },
    {
      "cell_type": "markdown",
      "source": [
        "2. What are the two main types of statistics?\n"
      ],
      "metadata": {
        "id": "uOgzLnLlE8Xt"
      }
    },
    {
      "cell_type": "markdown",
      "source": [
        "=> Descriptive statistics and inferential statistics.\n",
        "\n"
      ],
      "metadata": {
        "id": "h69BVx1yE-Yl"
      }
    },
    {
      "cell_type": "markdown",
      "source": [
        "3. What are descriptive statistics?\n"
      ],
      "metadata": {
        "id": "64R_hJ4wFAKd"
      }
    },
    {
      "cell_type": "markdown",
      "source": [
        "=> Descriptive statistics summarize and describe the features of a dataset.\n",
        "\n"
      ],
      "metadata": {
        "id": "4F8ZJWZ2FCaJ"
      }
    },
    {
      "cell_type": "markdown",
      "source": [
        "4. What is inferential statistics?\n"
      ],
      "metadata": {
        "id": "WsAo0GAtFEsj"
      }
    },
    {
      "cell_type": "markdown",
      "source": [
        "=> Inferential statistics use a sample to make generalizations about a population.\n",
        "\n"
      ],
      "metadata": {
        "id": "h7jF13NBFHCO"
      }
    },
    {
      "cell_type": "markdown",
      "source": [
        "5. What is sampling in statistics?\n"
      ],
      "metadata": {
        "id": "gTnSxGXuFI_q"
      }
    },
    {
      "cell_type": "markdown",
      "source": [
        "=> Sampling is selecting a subset of individuals from a population to estimate characteristics of the whole population.\n",
        "\n"
      ],
      "metadata": {
        "id": "pRbS75mEFMQ8"
      }
    },
    {
      "cell_type": "markdown",
      "source": [
        "6. What are the different types of sampling methods?\n"
      ],
      "metadata": {
        "id": "Y-4jAHxiFNmc"
      }
    },
    {
      "cell_type": "markdown",
      "source": [
        "=> Random, stratified, systematic, cluster, and convenience sampling.\n",
        "\n"
      ],
      "metadata": {
        "id": "NFMyauPyFQR4"
      }
    },
    {
      "cell_type": "markdown",
      "source": [
        "7. What is the difference between random and non-random sampling?\n"
      ],
      "metadata": {
        "id": "SBlhgRBEFRUv"
      }
    },
    {
      "cell_type": "markdown",
      "source": [
        "Random sampling gives each individual an equal chance, while non-random sampling does not.\n",
        "\n"
      ],
      "metadata": {
        "id": "bts57D_bFUFW"
      }
    },
    {
      "cell_type": "markdown",
      "source": [
        "8. Define and give examples of qualitative and quantitative data.\n"
      ],
      "metadata": {
        "id": "PJ-md4YcFV9i"
      }
    },
    {
      "cell_type": "markdown",
      "source": [
        "=> Qualitative: non-numeric (e.g., color), Quantitative: numeric (e.g., height).\n",
        "\n"
      ],
      "metadata": {
        "id": "Z1nUKbD5FYVr"
      }
    },
    {
      "cell_type": "markdown",
      "source": [
        "9. What are the different types of data in statistics?\n"
      ],
      "metadata": {
        "id": "EvhqSIyzFZJX"
      }
    },
    {
      "cell_type": "markdown",
      "source": [
        "Nominal, ordinal, interval, and ratio.\n",
        "\n"
      ],
      "metadata": {
        "id": "J1LczWvyFbix"
      }
    },
    {
      "cell_type": "markdown",
      "source": [
        "10. Explain nominal, ordinal, interval, and ratio levels of measurement.\n",
        "\n"
      ],
      "metadata": {
        "id": "2DqfvRV8Fe2w"
      }
    },
    {
      "cell_type": "markdown",
      "source": [
        "=> Nominal: categories (e.g., gender)\n",
        "\n",
        "  Ordinal: ordered categories (e.g., rankings)\n",
        "\n",
        "  Interval: ordered with equal spacing (e.g., temperature)\n",
        "\n",
        "  Ratio: interval with a true zero (e.g., weight)"
      ],
      "metadata": {
        "id": "swo4sWQmFf-a"
      }
    },
    {
      "cell_type": "markdown",
      "source": [
        "11. What is the measure of central tendency?\n"
      ],
      "metadata": {
        "id": "Z2gK98lqFoTt"
      }
    },
    {
      "cell_type": "markdown",
      "source": [
        "=> It refers to values that represent the center of a dataset: mean, median, and mode.\n",
        "\n"
      ],
      "metadata": {
        "id": "zXgfLc0OFqbL"
      }
    },
    {
      "cell_type": "markdown",
      "source": [
        "12. Define mean, median, and mode.\n",
        "\n"
      ],
      "metadata": {
        "id": "odKCvpo-FsF8"
      }
    },
    {
      "cell_type": "markdown",
      "source": [
        "=> Mean: average\n",
        "\n",
        "Median: middle value\n",
        "\n",
        "Mode: most frequent value"
      ],
      "metadata": {
        "id": "Esp1qdEVFvq5"
      }
    },
    {
      "cell_type": "markdown",
      "source": [
        "13. What is the significance of the measure of central tendency?\n"
      ],
      "metadata": {
        "id": "90JNlmgvFxNc"
      }
    },
    {
      "cell_type": "markdown",
      "source": [
        "=> It provides a single value that represents a set of data.\n",
        "\n"
      ],
      "metadata": {
        "id": "h0eMTAf7FyTD"
      }
    },
    {
      "cell_type": "markdown",
      "source": [
        "14. What is variance, and how is it calculated?\n"
      ],
      "metadata": {
        "id": "rK3vblzuF1wp"
      }
    },
    {
      "cell_type": "markdown",
      "source": [
        "=> Variance measures the spread of data. It is the average of squared differences from the mean.\n",
        "\n"
      ],
      "metadata": {
        "id": "tPhqMf2AF3we"
      }
    },
    {
      "cell_type": "markdown",
      "source": [
        "15. What is standard deviation, and why is it important?\n"
      ],
      "metadata": {
        "id": "qZYHX5ShF6Nl"
      }
    },
    {
      "cell_type": "markdown",
      "source": [
        "=> It is the square root of variance, indicating the amount of dispersion.\n",
        "\n"
      ],
      "metadata": {
        "id": "Svp_APDlF76R"
      }
    },
    {
      "cell_type": "markdown",
      "source": [
        "16. Define and explain the term range in statistics.\n"
      ],
      "metadata": {
        "id": "khCPJ4qxF9g-"
      }
    },
    {
      "cell_type": "markdown",
      "source": [
        "=> Range = Maximum - Minimum value in a dataset."
      ],
      "metadata": {
        "id": "C-oHXeu_GASd"
      }
    },
    {
      "cell_type": "markdown",
      "source": [
        "17. What is the difference between variance and standard deviation?\n"
      ],
      "metadata": {
        "id": "3fHZVG2QGC81"
      }
    },
    {
      "cell_type": "markdown",
      "source": [
        "=> Variance is in squared units; standard deviation is in original units.\n",
        "\n"
      ],
      "metadata": {
        "id": "tSgRekpoGE2R"
      }
    },
    {
      "cell_type": "markdown",
      "source": [
        "18. What is skewness in a dataset?\n"
      ],
      "metadata": {
        "id": "PcJUYJOJGGtc"
      }
    },
    {
      "cell_type": "markdown",
      "source": [
        "=> Skewness indicates asymmetry in data distribution.\n",
        "\n"
      ],
      "metadata": {
        "id": "GI1Tj948GJE-"
      }
    },
    {
      "cell_type": "markdown",
      "source": [
        "19. What does it mean if a dataset is positively or negatively skewed?\n"
      ],
      "metadata": {
        "id": "eHt_dN1QGL8l"
      }
    },
    {
      "cell_type": "markdown",
      "source": [
        "=> Positive skew: tail on the right. Negative skew: tail on the left.\n",
        "\n"
      ],
      "metadata": {
        "id": "CUtkqmu_GN8i"
      }
    },
    {
      "cell_type": "markdown",
      "source": [
        "20. Define and explain kurtosis.\n"
      ],
      "metadata": {
        "id": "4xoObNiNGQZD"
      }
    },
    {
      "cell_type": "markdown",
      "source": [
        "=> Kurtosis measures the \"tailedness\" of a distribution.\n",
        "\n"
      ],
      "metadata": {
        "id": "0NeCW1NaGSRn"
      }
    },
    {
      "cell_type": "markdown",
      "source": [
        "21. What is the purpose of covariance?\n"
      ],
      "metadata": {
        "id": "KQ6YCG0EGUO9"
      }
    },
    {
      "cell_type": "markdown",
      "source": [
        "=> Covariance indicates the direction of the relationship between two variables.\n",
        "\n"
      ],
      "metadata": {
        "id": "7x5JnTepGWEQ"
      }
    },
    {
      "cell_type": "markdown",
      "source": [
        "22. What does correlation measure in statistics?\n"
      ],
      "metadata": {
        "id": "uZiv9AIoGXxT"
      }
    },
    {
      "cell_type": "markdown",
      "source": [
        "=> Correlation quantifies the strength and direction of the relationship between two variables.\n",
        "\n"
      ],
      "metadata": {
        "id": "HJecFbpxGZiy"
      }
    },
    {
      "cell_type": "markdown",
      "source": [
        "23. What is the difference between covariance and correlation?\n"
      ],
      "metadata": {
        "id": "wFk_4YW4GbjC"
      }
    },
    {
      "cell_type": "markdown",
      "source": [
        "=> Covariance shows direction only; correlation also shows strength and is standardized.\n",
        "\n"
      ],
      "metadata": {
        "id": "rJIXSwgyGdKX"
      }
    },
    {
      "cell_type": "markdown",
      "source": [
        "24. What are some real-world applications of statistics?\n"
      ],
      "metadata": {
        "id": "COhLlWRMGeh2"
      }
    },
    {
      "cell_type": "markdown",
      "source": [
        "=> Healthcare, marketing, economics, sports analytics, and policy-making.\n",
        "\n"
      ],
      "metadata": {
        "id": "jM39MJGEGgU7"
      }
    },
    {
      "cell_type": "markdown",
      "source": [
        "# **Practical Questions**"
      ],
      "metadata": {
        "id": "nXp_nNT9GhjQ"
      }
    },
    {
      "cell_type": "markdown",
      "source": [
        "1. How do you calculate the mean, median, and mode of a dataset?"
      ],
      "metadata": {
        "id": "P1nhDFmRGlbr"
      }
    },
    {
      "cell_type": "code",
      "source": [
        "import statistics as stats\n",
        "data = [1, 2, 3, 4, 5, 5, 6]\n",
        "print(stats.mean(data), stats.median(data), stats.mode(data))\n"
      ],
      "metadata": {
        "colab": {
          "base_uri": "https://localhost:8080/"
        },
        "id": "PbBUiq2xICd2",
        "outputId": "c4162d2d-6e9d-4962-f7f8-8892a9f2e345"
      },
      "execution_count": 1,
      "outputs": [
        {
          "output_type": "stream",
          "name": "stdout",
          "text": [
            "3.7142857142857144 4 5\n"
          ]
        }
      ]
    },
    {
      "cell_type": "markdown",
      "source": [
        "2. Write a Python program to compute the variance and standard deviation of a dataset."
      ],
      "metadata": {
        "id": "RedZ-F5QGv8T"
      }
    },
    {
      "cell_type": "code",
      "source": [
        "print(stats.variance(data), stats.stdev(data))\n"
      ],
      "metadata": {
        "colab": {
          "base_uri": "https://localhost:8080/"
        },
        "id": "vWx_dY-VIJoK",
        "outputId": "897b4fc2-1939-47a2-8435-e72c8859166c"
      },
      "execution_count": 2,
      "outputs": [
        {
          "output_type": "stream",
          "name": "stdout",
          "text": [
            "3.238095238095238 1.7994708216848747\n"
          ]
        }
      ]
    },
    {
      "cell_type": "markdown",
      "source": [
        "3. Create a dataset and classify it into nominal, ordinal, interval, and ratio types."
      ],
      "metadata": {
        "id": "SY-qAmmwGzGT"
      }
    },
    {
      "cell_type": "code",
      "source": [
        "Nominal: [\"Red\", \"Blue\"]\n",
        "\n",
        "Ordinal: [\"Low\", \"Medium\", \"High\"]\n",
        "\n",
        "Interval: [20°C, 30°C]\n",
        "\n",
        "Ratio: [0, 10, 20]"
      ],
      "metadata": {
        "id": "VhTS8gmoIYSp"
      },
      "execution_count": null,
      "outputs": []
    },
    {
      "cell_type": "markdown",
      "source": [
        "4. Implement sampling techniques like random sampling and stratified sampling."
      ],
      "metadata": {
        "id": "wTkDcN4BG1ir"
      }
    },
    {
      "cell_type": "code",
      "source": [
        "import numpy as np\n",
        "np.random.seed(0)\n",
        "sample = np.random.choice(data, 3, replace=False)\n",
        "print(\"Random Sample:\", sample)\n"
      ],
      "metadata": {
        "colab": {
          "base_uri": "https://localhost:8080/"
        },
        "id": "9TuSLvBUIZPK",
        "outputId": "9f39d688-838a-4170-8689-0e9583cdb16e"
      },
      "execution_count": 4,
      "outputs": [
        {
          "output_type": "stream",
          "name": "stdout",
          "text": [
            "Random Sample: [6 3 2]\n"
          ]
        }
      ]
    },
    {
      "cell_type": "markdown",
      "source": [
        "5. Write a Python function to calculate the range of a dataset."
      ],
      "metadata": {
        "id": "7SYNccjmG3xy"
      }
    },
    {
      "cell_type": "code",
      "source": [
        "def calc_range(d): return max(d) - min(d)\n",
        "print(calc_range(data))\n"
      ],
      "metadata": {
        "colab": {
          "base_uri": "https://localhost:8080/"
        },
        "id": "BLVRv1ZdIe3R",
        "outputId": "7334a937-9024-4dc2-a0c8-3f7a914f115b"
      },
      "execution_count": 5,
      "outputs": [
        {
          "output_type": "stream",
          "name": "stdout",
          "text": [
            "5\n"
          ]
        }
      ]
    },
    {
      "cell_type": "markdown",
      "source": [
        "6. Create a dataset and plot its histogram to visualize skewness."
      ],
      "metadata": {
        "id": "k3YEV-r-G6g6"
      }
    },
    {
      "cell_type": "code",
      "source": [
        "import matplotlib.pyplot as plt\n",
        "plt.hist(data, bins=5)\n",
        "plt.show()\n"
      ],
      "metadata": {
        "colab": {
          "base_uri": "https://localhost:8080/",
          "height": 430
        },
        "id": "nGFWNioqIgo8",
        "outputId": "58bee247-a08e-42a8-db73-17d8cfd51986"
      },
      "execution_count": 6,
      "outputs": [
        {
          "output_type": "display_data",
          "data": {
            "text/plain": [
              "<Figure size 640x480 with 1 Axes>"
            ],
            "image/png": "[encoded data removed]"
          },
          "metadata": {}
        }
      ]
    },
    {
      "cell_type": "markdown",
      "source": [
        "7. Calculate skewness and kurtosis of a dataset using Python libraries."
      ],
      "metadata": {
        "id": "c13WBG3kHDZ7"
      }
    },
    {
      "cell_type": "code",
      "source": [
        "from scipy.stats import skew, kurtosis\n",
        "print(skew(data), kurtosis(data))\n"
      ],
      "metadata": {
        "colab": {
          "base_uri": "https://localhost:8080/"
        },
        "id": "-Op8L5KbIjb3",
        "outputId": "061955de-1584-4546-a812-a7a6543ed464"
      },
      "execution_count": 7,
      "outputs": [
        {
          "output_type": "stream",
          "name": "stdout",
          "text": [
            "-0.2837292768901802 -1.2208044982698958\n"
          ]
        }
      ]
    },
    {
      "cell_type": "markdown",
      "source": [
        "8. Generate a dataset and demonstrate positive and negative skewness."
      ],
      "metadata": {
        "id": "sTWF_H7CHH9G"
      }
    },
    {
      "cell_type": "code",
      "source": [
        "pos_skew = [1, 2, 3, 4, 10]\n",
        "neg_skew = [10, 6, 5, 4, 1]\n",
        "print(skew(pos_skew), skew(neg_skew))\n"
      ],
      "metadata": {
        "colab": {
          "base_uri": "https://localhost:8080/"
        },
        "id": "q4yPjfAjIlJk",
        "outputId": "7b74f7cf-6583-49ee-f627-ade752d7d9ff"
      },
      "execution_count": 8,
      "outputs": [
        {
          "output_type": "stream",
          "name": "stdout",
          "text": [
            "1.1384199576606167 0.28173962039053885\n"
          ]
        }
      ]
    },
    {
      "cell_type": "markdown",
      "source": [
        "9. Write a Python script to calculate covariance between two datasets."
      ],
      "metadata": {
        "id": "ImrMhln3HKgJ"
      }
    },
    {
      "cell_type": "code",
      "source": [
        "x = [1, 2, 3]\n",
        "y = [4, 5, 6]\n",
        "cov = np.cov(x, y)[0, 1]\n",
        "print(cov)\n"
      ],
      "metadata": {
        "colab": {
          "base_uri": "https://localhost:8080/"
        },
        "id": "ZYb5udNhIoFX",
        "outputId": "3da260aa-d3e3-4b3b-c416-822897e03067"
      },
      "execution_count": 9,
      "outputs": [
        {
          "output_type": "stream",
          "name": "stdout",
          "text": [
            "1.0\n"
          ]
        }
      ]
    },
    {
      "cell_type": "markdown",
      "source": [
        "10. Write a Python script to calculate the correlation coefficient between two datasets."
      ],
      "metadata": {
        "id": "UYno49k5HOmb"
      }
    },
    {
      "cell_type": "code",
      "source": [
        "corr = np.corrcoef(x, y)[0, 1]\n",
        "print(corr)\n"
      ],
      "metadata": {
        "colab": {
          "base_uri": "https://localhost:8080/"
        },
        "id": "s-c434kyIpo6",
        "outputId": "5195597e-2b83-4a26-ec9f-466e7189a4c7"
      },
      "execution_count": 10,
      "outputs": [
        {
          "output_type": "stream",
          "name": "stdout",
          "text": [
            "1.0\n"
          ]
        }
      ]
    },
    {
      "cell_type": "markdown",
      "source": [
        "11. Create a scatter plot to visualize the relationship between two variables."
      ],
      "metadata": {
        "id": "0dwG9jP-HQ-N"
      }
    },
    {
      "cell_type": "code",
      "source": [
        "plt.scatter(x, y)\n",
        "plt.show()\n"
      ],
      "metadata": {
        "colab": {
          "base_uri": "https://localhost:8080/",
          "height": 430
        },
        "id": "hcJn9CAwIsO_",
        "outputId": "4b66ce06-0794-4189-b58d-e12ad8e262a8"
      },
      "execution_count": 11,
      "outputs": [
        {
          "output_type": "display_data",
          "data": {
            "text/plain": [
              "<Figure size 640x480 with 1 Axes>"
            ],
            "image/png": "[encoded data removed]"
          },
          "metadata": {}
        }
      ]
    },
    {
      "cell_type": "markdown",
      "source": [
        "12.  Implement and compare simple random sampling and systematic sampling."
      ],
      "metadata": {
        "id": "FMJRYi48HT03"
      }
    },
    {
      "cell_type": "code",
      "source": [
        "sys_sample = data[::2]\n",
        "print(\"Systematic Sample:\", sys_sample)\n"
      ],
      "metadata": {
        "colab": {
          "base_uri": "https://localhost:8080/"
        },
        "id": "1g1nsDUYIuJd",
        "outputId": "940eb601-c2d3-4128-a2da-bf3477b620de"
      },
      "execution_count": 12,
      "outputs": [
        {
          "output_type": "stream",
          "name": "stdout",
          "text": [
            "Systematic Sample: [1, 3, 5, 6]\n"
          ]
        }
      ]
    },
    {
      "cell_type": "markdown",
      "source": [
        "13.  Calculate the mean, median, and mode of grouped data."
      ],
      "metadata": {
        "id": "9yDIEBfzHXH5"
      }
    },
    {
      "cell_type": "code",
      "source": [
        "import pandas as pd\n",
        "import numpy as np\n",
        "from scipy import stats\n",
        "\n",
        "class_intervals = [(0, 10), (10, 20), (20, 30), (30, 40), (40, 50)]\n",
        "frequencies = [5, 8, 15, 16, 6]\n",
        "\n",
        "midpoints = [(start + end) / 2 for start, end in class_intervals]\n",
        "\n",
        "df = pd.DataFrame({\n",
        "    'Class Interval': class_intervals,\n",
        "    'Frequency': frequencies,\n",
        "    'Midpoint': midpoints\n",
        "})\n",
        "\n",
        "# Mean Calculation\n",
        "df['f*x'] = df['Frequency'] * df['Midpoint']\n",
        "mean = df['f*x'].sum() / df['Frequency'].sum()\n",
        "\n",
        "# Median Calculation\n",
        "cumulative_freq = np.cumsum(frequencies)\n",
        "n = df['Frequency'].sum()\n",
        "median_class_index = np.where(cumulative_freq >= n / 2)[0][0]\n",
        "l = class_intervals[median_class_index][0]\n",
        "f = frequencies[median_class_index]\n",
        "cf = cumulative_freq[median_class_index - 1] if median_class_index > 0 else 0\n",
        "h = class_intervals[median_class_index][1] - class_intervals[median_class_index][0]\n",
        "median = l + ((n / 2 - cf) / f) * h\n",
        "\n",
        "# Mode Calculation\n",
        "modal_index = np.argmax(frequencies)\n",
        "l_mode = class_intervals[modal_index][0]\n",
        "f1 = frequencies[modal_index]\n",
        "f0 = frequencies[modal_index - 1] if modal_index > 0 else 0\n",
        "f2 = frequencies[modal_index + 1] if modal_index < len(frequencies) - 1 else 0\n",
        "mode = l_mode + ((f1 - f0) / ((2 * f1 - f0 - f2))) * h\n",
        "\n",
        "print(\"Mean:\", round(mean, 2))\n",
        "print(\"Median:\", round(median, 2))\n",
        "print(\"Mode:\", round(mode, 2))"
      ],
      "metadata": {
        "colab": {
          "base_uri": "https://localhost:8080/"
        },
        "id": "sjl67l86Ivcj",
        "outputId": "bf9adf56-96c3-4ca7-bc15-c5921eb72711"
      },
      "execution_count": 27,
      "outputs": [
        {
          "output_type": "stream",
          "name": "stdout",
          "text": [
            "Mean: 27.0\n",
            "Median: 28.0\n",
            "Mode: 30.91\n"
          ]
        }
      ]
    },
    {
      "cell_type": "markdown",
      "source": [
        "14. Simulate data using Python and calculate its central tendency and dispersion."
      ],
      "metadata": {
        "id": "U56JfN67HZ_K"
      }
    },
    {
      "cell_type": "code",
      "source": [
        "sim = np.random.normal(50, 10, 1000)\n",
        "print(np.mean(sim), np.std(sim))\n"
      ],
      "metadata": {
        "colab": {
          "base_uri": "https://localhost:8080/"
        },
        "id": "ZVHRr7LCI3dj",
        "outputId": "1450a8f1-f8d9-47e6-b22f-18ddd4acd081"
      },
      "execution_count": 13,
      "outputs": [
        {
          "output_type": "stream",
          "name": "stdout",
          "text": [
            "49.36925932901574 9.775835791825457\n"
          ]
        }
      ]
    },
    {
      "cell_type": "markdown",
      "source": [
        "15. Use NumPy or pandas to summarize a dataset’s descriptive statistics."
      ],
      "metadata": {
        "id": "w6PF4FLwHd2-"
      }
    },
    {
      "cell_type": "code",
      "source": [
        "import pandas as pd\n",
        "df = pd.DataFrame({'data': data})\n",
        "print(df.describe())\n"
      ],
      "metadata": {
        "colab": {
          "base_uri": "https://localhost:8080/"
        },
        "id": "zmwz6u_gI5bv",
        "outputId": "7d550c5e-e69f-41b3-fc05-8a8939df80a0"
      },
      "execution_count": 14,
      "outputs": [
        {
          "output_type": "stream",
          "name": "stdout",
          "text": [
            "           data\n",
            "count  7.000000\n",
            "mean   3.714286\n",
            "std    1.799471\n",
            "min    1.000000\n",
            "25%    2.500000\n",
            "50%    4.000000\n",
            "75%    5.000000\n",
            "max    6.000000\n"
          ]
        }
      ]
    },
    {
      "cell_type": "markdown",
      "source": [
        "16. Plot a boxplot to understand the spread and identify outliers."
      ],
      "metadata": {
        "id": "z22qIzk_HhEV"
      }
    },
    {
      "cell_type": "code",
      "source": [
        "df.boxplot()\n",
        "plt.show()\n"
      ],
      "metadata": {
        "colab": {
          "base_uri": "https://localhost:8080/",
          "height": 430
        },
        "id": "9NMKhMkHI7Jj",
        "outputId": "85746c09-33a2-4507-e901-4bf9942fc997"
      },
      "execution_count": 15,
      "outputs": [
        {
          "output_type": "display_data",
          "data": {
            "text/plain": [
              "<Figure size 640x480 with 1 Axes>"
            ],
            "image/png": "[encoded data removed]"
          },
          "metadata": {}
        }
      ]
    },
    {
      "cell_type": "markdown",
      "source": [
        "17. Calculate the interquartile range (IQR) of a dataset."
      ],
      "metadata": {
        "id": "Uqzh3DuIHlh6"
      }
    },
    {
      "cell_type": "code",
      "source": [
        "Q1 = df['data'].quantile(0.25)\n",
        "Q3 = df['data'].quantile(0.75)\n",
        "print(Q3 - Q1)\n"
      ],
      "metadata": {
        "colab": {
          "base_uri": "https://localhost:8080/"
        },
        "id": "i3u0uzKXI9u8",
        "outputId": "ede3ae32-a2c7-41cf-fdaa-aa5113b963af"
      },
      "execution_count": 16,
      "outputs": [
        {
          "output_type": "stream",
          "name": "stdout",
          "text": [
            "2.5\n"
          ]
        }
      ]
    },
    {
      "cell_type": "markdown",
      "source": [
        "18. Implement Z-score normalization and explain its significance."
      ],
      "metadata": {
        "id": "wyv_QeFkHoin"
      }
    },
    {
      "cell_type": "code",
      "source": [
        "z_scores = (df - df.mean()) / df.std()\n",
        "print(z_scores)\n"
      ],
      "metadata": {
        "colab": {
          "base_uri": "https://localhost:8080/"
        },
        "id": "N5f7zBCEJCQr",
        "outputId": "f7271059-7e97-44d5-eb10-ad45080aa4d8"
      },
      "execution_count": 17,
      "outputs": [
        {
          "output_type": "stream",
          "name": "stdout",
          "text": [
            "       data\n",
            "0 -1.508380\n",
            "1 -0.952661\n",
            "2 -0.396942\n",
            "3  0.158777\n",
            "4  0.714496\n",
            "5  0.714496\n",
            "6  1.270215\n"
          ]
        }
      ]
    },
    {
      "cell_type": "markdown",
      "source": [
        "19. Compare two datasets using their standard deviations."
      ],
      "metadata": {
        "id": "OCk0mu0JHsnS"
      }
    },
    {
      "cell_type": "code",
      "source": [
        "a = [1, 2, 3]\n",
        "b = [10, 20, 30]\n",
        "print(np.std(a), np.std(b))\n"
      ],
      "metadata": {
        "colab": {
          "base_uri": "https://localhost:8080/"
        },
        "id": "HWWwSg73JFRk",
        "outputId": "2ff66570-bbbf-41d7-a4ef-9c3a1b1944a4"
      },
      "execution_count": 18,
      "outputs": [
        {
          "output_type": "stream",
          "name": "stdout",
          "text": [
            "0.816496580927726 8.16496580927726\n"
          ]
        }
      ]
    },
    {
      "cell_type": "markdown",
      "source": [
        "20. Write a Python program to visualize covariance using a heatmap."
      ],
      "metadata": {
        "id": "wrVplF2oHvCu"
      }
    },
    {
      "cell_type": "code",
      "source": [
        "import seaborn as sns\n",
        "sns.heatmap(df.cov(), annot=True)\n",
        "plt.show()\n"
      ],
      "metadata": {
        "colab": {
          "base_uri": "https://localhost:8080/",
          "height": 430
        },
        "id": "RVM-qZS6JGKv",
        "outputId": "373111c1-66bc-4735-bbd0-480de9d5cd7b"
      },
      "execution_count": 19,
      "outputs": [
        {
          "output_type": "display_data",
          "data": {
            "text/plain": [
              "<Figure size 640x480 with 2 Axes>"
            ],
            "image/png": "[encoded data removed]"
          },
          "metadata": {}
        }
      ]
    },
    {
      "cell_type": "markdown",
      "source": [
        "21. Write a Python program to visualize covariance using a heatmap."
      ],
      "metadata": {
        "id": "-qm6eaXnHxib"
      }
    },
    {
      "cell_type": "code",
      "source": [
        "sns.heatmap(df.corr(), annot=True)\n",
        "plt.show()\n"
      ],
      "metadata": {
        "colab": {
          "base_uri": "https://localhost:8080/",
          "height": 435
        },
        "id": "hCNurIOXJIhb",
        "outputId": "30c40c86-47fc-4589-8adf-ccab6b57a446"
      },
      "execution_count": 20,
      "outputs": [
        {
          "output_type": "display_data",
          "data": {
            "text/plain": [
              "<Figure size 640x480 with 2 Axes>"
            ],
            "image/png": "[encoded data removed]"
          },
          "metadata": {}
        }
      ]
    },
    {
      "cell_type": "markdown",
      "source": [
        "22. Generate a dataset and implement both variance and standard deviation computations."
      ],
      "metadata": {
        "id": "Y9BL7QjYH0kj"
      }
    },
    {
      "cell_type": "code",
      "source": [
        "print(df.var(), df.std())\n"
      ],
      "metadata": {
        "colab": {
          "base_uri": "https://localhost:8080/"
        },
        "id": "YvrStVYhJLuU",
        "outputId": "873442b6-f37c-40cf-f5af-3b01652a6647"
      },
      "execution_count": 21,
      "outputs": [
        {
          "output_type": "stream",
          "name": "stdout",
          "text": [
            "data    3.238095\n",
            "dtype: float64 data    1.799471\n",
            "dtype: float64\n"
          ]
        }
      ]
    },
    {
      "cell_type": "markdown",
      "source": [
        "23. Visualize skewness and kurtosis using Python libraries like matplotlib or seaborn."
      ],
      "metadata": {
        "id": "MaEjVeXBH31E"
      }
    },
    {
      "cell_type": "code",
      "source": [
        "sns.histplot(data, kde=True)\n",
        "plt.show()\n"
      ],
      "metadata": {
        "colab": {
          "base_uri": "https://localhost:8080/",
          "height": 430
        },
        "id": "dDiGkTB4JNVe",
        "outputId": "9fd9b3f7-c5b2-4047-fdf0-ee4c8a0da1d5"
      },
      "execution_count": 22,
      "outputs": [
        {
          "output_type": "display_data",
          "data": {
            "text/plain": [
              "<Figure size 640x480 with 1 Axes>"
            ],
            "image/png": "[encoded data removed]"
          },
          "metadata": {}
        }
      ]
    },
    {
      "cell_type": "markdown",
      "source": [
        "24. Implement the Pearson and Spearman correlation coefficients for a dataset."
      ],
      "metadata": {
        "id": "DN3JBPyLH6r9"
      }
    },
    {
      "cell_type": "code",
      "source": [
        "from scipy.stats import spearmanr, pearsonr\n",
        "print(pearsonr(x, y), spearmanr(x, y))\n"
      ],
      "metadata": {
        "colab": {
          "base_uri": "https://localhost:8080/"
        },
        "id": "vuHKjz36JPgM",
        "outputId": "227fac36-cf46-4b67-86c6-659c0ba82ea6"
      },
      "execution_count": 23,
      "outputs": [
        {
          "output_type": "stream",
          "name": "stdout",
          "text": [
            "PearsonRResult(statistic=np.float64(0.9999999999999999), pvalue=np.float64(0.0)) SignificanceResult(statistic=np.float64(1.0), pvalue=np.float64(0.0))\n"
          ]
        }
      ]
    }
  ]
}